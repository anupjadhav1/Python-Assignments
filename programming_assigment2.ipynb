{
 "cells": [
  {
   "cell_type": "code",
   "execution_count": 1,
   "id": "42f8ea20",
   "metadata": {},
   "outputs": [
    {
     "name": "stdout",
     "output_type": "stream",
     "text": [
      "Enter the value in Kiliometers: 2\n",
      "The entered  value of kiliometers is equal to:  1.24 miles\n"
     ]
    }
   ],
   "source": [
    "#Q1 Write a Python program to convert kilometers to miles?\n",
    "km = float(input(\"Enter the value in Kiliometers: \"))\n",
    "conversion_rate=0.621371\n",
    "mi=km*conversion_rate\n",
    "print(\"The entered  value of kiliometers is equal to: \",round(mi,2),\"miles\")"
   ]
  },
  {
   "cell_type": "code",
   "execution_count": 2,
   "id": "45b42e54",
   "metadata": {},
   "outputs": [
    {
     "name": "stdout",
     "output_type": "stream",
     "text": [
      "Enter the value in Celsius: 3\n",
      "The entered  value of celsius is equal to:  37.4 Fahrenheit\n"
     ]
    }
   ],
   "source": [
    "#Q2 Write a Python program to convert Celsius to Fahrenheit?\n",
    "celsius = float(input(\"Enter the value in Celsius: \"))\n",
    "fahrenheit= (celsius*9/5)+32\n",
    "print(\"The entered  value of celsius is equal to: \",round(fahrenheit,2),\"Fahrenheit\")"
   ]
  },
  {
   "cell_type": "code",
   "execution_count": 3,
   "id": "352cbad4",
   "metadata": {},
   "outputs": [
    {
     "name": "stdout",
     "output_type": "stream",
     "text": [
      "enter the year:2020\n",
      "                                  2020\n",
      "\n",
      "      January                   February                   March\n",
      "Mo Tu We Th Fr Sa Su      Mo Tu We Th Fr Sa Su      Mo Tu We Th Fr Sa Su\n",
      "       1  2  3  4  5                      1  2                         1\n",
      " 6  7  8  9 10 11 12       3  4  5  6  7  8  9       2  3  4  5  6  7  8\n",
      "13 14 15 16 17 18 19      10 11 12 13 14 15 16       9 10 11 12 13 14 15\n",
      "20 21 22 23 24 25 26      17 18 19 20 21 22 23      16 17 18 19 20 21 22\n",
      "27 28 29 30 31            24 25 26 27 28 29         23 24 25 26 27 28 29\n",
      "                                                    30 31\n",
      "\n",
      "       April                      May                       June\n",
      "Mo Tu We Th Fr Sa Su      Mo Tu We Th Fr Sa Su      Mo Tu We Th Fr Sa Su\n",
      "       1  2  3  4  5                   1  2  3       1  2  3  4  5  6  7\n",
      " 6  7  8  9 10 11 12       4  5  6  7  8  9 10       8  9 10 11 12 13 14\n",
      "13 14 15 16 17 18 19      11 12 13 14 15 16 17      15 16 17 18 19 20 21\n",
      "20 21 22 23 24 25 26      18 19 20 21 22 23 24      22 23 24 25 26 27 28\n",
      "27 28 29 30               25 26 27 28 29 30 31      29 30\n",
      "\n",
      "        July                     August                  September\n",
      "Mo Tu We Th Fr Sa Su      Mo Tu We Th Fr Sa Su      Mo Tu We Th Fr Sa Su\n",
      "       1  2  3  4  5                      1  2          1  2  3  4  5  6\n",
      " 6  7  8  9 10 11 12       3  4  5  6  7  8  9       7  8  9 10 11 12 13\n",
      "13 14 15 16 17 18 19      10 11 12 13 14 15 16      14 15 16 17 18 19 20\n",
      "20 21 22 23 24 25 26      17 18 19 20 21 22 23      21 22 23 24 25 26 27\n",
      "27 28 29 30 31            24 25 26 27 28 29 30      28 29 30\n",
      "                          31\n",
      "\n",
      "      October                   November                  December\n",
      "Mo Tu We Th Fr Sa Su      Mo Tu We Th Fr Sa Su      Mo Tu We Th Fr Sa Su\n",
      "          1  2  3  4                         1          1  2  3  4  5  6\n",
      " 5  6  7  8  9 10 11       2  3  4  5  6  7  8       7  8  9 10 11 12 13\n",
      "12 13 14 15 16 17 18       9 10 11 12 13 14 15      14 15 16 17 18 19 20\n",
      "19 20 21 22 23 24 25      16 17 18 19 20 21 22      21 22 23 24 25 26 27\n",
      "26 27 28 29 30 31         23 24 25 26 27 28 29      28 29 30 31\n",
      "                          30\n",
      "\n"
     ]
    }
   ],
   "source": [
    "#Q3 Write a Python program to display calendar?\n",
    "\n",
    "import calendar\n",
    "\n",
    "yy = int(input(\"enter the year:\"))\n",
    "\n",
    "print(calendar.calendar(yy))"
   ]
  },
  {
   "cell_type": "code",
   "execution_count": 4,
   "id": "270d598e",
   "metadata": {},
   "outputs": [
    {
     "name": "stdout",
     "output_type": "stream",
     "text": [
      "for standard form of quadratic equation ax^2 + bx + c = 0\n",
      "input a :2\n",
      "input b :3\n",
      "input c :4\n",
      "The solutions to the quadradic equation is (-0.75-1.1989578808281798j) and (-0.75+1.1989578808281798j)\n"
     ]
    }
   ],
   "source": [
    "#Q4 Write a Python program to solve quadratic equation?\n",
    "\n",
    "import cmath\n",
    "\n",
    "print(\"for standard form of quadratic equation ax^2 + bx + c = 0\")\n",
    "\n",
    "a= float(input(\"input a :\"))\n",
    "if a == 0:\n",
    "    print(\"variable a cannot be 0\")\n",
    "b= float(input(\"input b :\"))\n",
    "c= float(input(\"input c :\"))\n",
    "\n",
    "# Calculate the discriminant\n",
    "\n",
    "d = (b**2) - (4*a*c)\n",
    "\n",
    "#Calculate the solution\n",
    "\n",
    "solution1 = ((-b-cmath.sqrt(d))/(2*a))\n",
    "solution2 = ((-b+cmath.sqrt(d))/(2*a))\n",
    "\n",
    "#Printing the solution\n",
    "\n",
    "print(\"The solutions to the quadradic equation is {} and {}\" .format(solution1,solution2))\n",
    "\n",
    "\n"
   ]
  },
  {
   "cell_type": "code",
   "execution_count": 6,
   "id": "0e5ecae1",
   "metadata": {},
   "outputs": [
    {
     "name": "stdout",
     "output_type": "stream",
     "text": [
      "enter the first number: 1\n",
      "enter the second number: 2\n",
      "The entered numbers are 1 and 2\n",
      "The numbers after swaping them are 2 and 1\n"
     ]
    }
   ],
   "source": [
    "#Q5 Write a Python program to swap two variables without temp variable\n",
    "\n",
    "a = input(\"enter the first number: \")\n",
    "b = input(\"enter the second number: \")\n",
    "\n",
    "print (\"The entered numbers are {} and {}\" .format(a,b))\n",
    "\n",
    "# Swaping the numbers\n",
    "a , b = b, a\n",
    "\n",
    "print(\"The numbers after swaping them are {} and {}\" .format(a,b))"
   ]
  },
  {
   "cell_type": "code",
   "execution_count": 7,
   "id": "fa1bcb2f",
   "metadata": {},
   "outputs": [
    {
     "ename": "NameError",
     "evalue": "name 'done' is not defined",
     "output_type": "error",
     "traceback": [
      "\u001b[0;31m---------------------------------------------------------------------------\u001b[0m",
      "\u001b[0;31mNameError\u001b[0m                                 Traceback (most recent call last)",
      "\u001b[0;32m/var/folders/wr/7qd57n9s6jsfl8xy8xvhxz600000gn/T/ipykernel_34564/3992015586.py\u001b[0m in \u001b[0;36m<module>\u001b[0;34m\u001b[0m\n\u001b[0;32m----> 1\u001b[0;31m \u001b[0mdone\u001b[0m\u001b[0;34m\u001b[0m\u001b[0;34m\u001b[0m\u001b[0m\n\u001b[0m",
      "\u001b[0;31mNameError\u001b[0m: name 'done' is not defined"
     ]
    }
   ],
   "source": []
  },
  {
   "cell_type": "markdown",
   "id": "799f4650",
   "metadata": {},
   "source": [
    "done"
   ]
  },
  {
   "cell_type": "code",
   "execution_count": null,
   "id": "6596b16c",
   "metadata": {},
   "outputs": [],
   "source": []
  }
 ],
 "metadata": {
  "kernelspec": {
   "display_name": "Python 3 (ipykernel)",
   "language": "python",
   "name": "python3"
  },
  "language_info": {
   "codemirror_mode": {
    "name": "ipython",
    "version": 3
   },
   "file_extension": ".py",
   "mimetype": "text/x-python",
   "name": "python",
   "nbconvert_exporter": "python",
   "pygments_lexer": "ipython3",
   "version": "3.9.7"
  }
 },
 "nbformat": 4,
 "nbformat_minor": 5
}
