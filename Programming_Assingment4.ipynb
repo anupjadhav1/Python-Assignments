{
  "nbformat": 4,
  "nbformat_minor": 0,
  "metadata": {
    "colab": {
      "name": "Untitled1.ipynb",
      "provenance": []
    },
    "kernelspec": {
      "name": "python3",
      "display_name": "Python 3"
    },
    "language_info": {
      "name": "python"
    }
  },
  "cells": [
    {
      "cell_type": "code",
      "execution_count": 3,
      "metadata": {
        "colab": {
          "base_uri": "https://localhost:8080/"
        },
        "id": "38zjv0-RmanP",
        "outputId": "afeb06cb-f3e3-44e1-bd39-419f199f9a79"
      },
      "outputs": [
        {
          "output_type": "stream",
          "name": "stdout",
          "text": [
            "Enter a number: 5\n",
            "the factoral of is 120\n"
          ]
        }
      ],
      "source": [
        "#Q1 Write a Python Program to Find the Factorial of a Number\n",
        "\n",
        "number = int(input(\"Enter a number: \"))\n",
        "\n",
        "j = 1\n",
        "\n",
        "while (number>0):\n",
        "    j=j*number\n",
        "    number = number - 1\n",
        "print(\"the factoral of is {}\" .format(j))"
      ]
    },
    {
      "cell_type": "code",
      "source": [
        "#Q2 Write a Python Program to Display the multiplication Table\n",
        "\n",
        "number = int(input(\"Enter a the number for which the multiplication table will be displayed: \"))\n",
        "\n",
        "for i in range(0,11):\n",
        "    print(number, \"x\", i, \"=\", number*i)"
      ],
      "metadata": {
        "colab": {
          "base_uri": "https://localhost:8080/"
        },
        "id": "rOghqb4JmnKx",
        "outputId": "c14aeff4-81ba-4c26-bd13-b03f6f24c872"
      },
      "execution_count": 4,
      "outputs": [
        {
          "output_type": "stream",
          "name": "stdout",
          "text": [
            "Enter a the number for which the multiplication table will be displayed: 11\n",
            "11 x 0 = 0\n",
            "11 x 1 = 11\n",
            "11 x 2 = 22\n",
            "11 x 3 = 33\n",
            "11 x 4 = 44\n",
            "11 x 5 = 55\n",
            "11 x 6 = 66\n",
            "11 x 7 = 77\n",
            "11 x 8 = 88\n",
            "11 x 9 = 99\n",
            "11 x 10 = 110\n"
          ]
        }
      ]
    },
    {
      "cell_type": "code",
      "source": [
        "#Q3 Write a Python Program to Print the Fibonacci sequence?\n",
        "\n",
        "n = int(input(\"Enter n to generate the Fibonacci sequence to the n value: \"))\n",
        "\n",
        "a = 0\n",
        "b = 1\n",
        "\n",
        "if n<= 0:\n",
        "    print(a)\n",
        "else:\n",
        "    print(a,b,end = \"\")\n",
        "    for i in range(2,n):\n",
        "        c = a+b\n",
        "        print(c, end = \"\")\n",
        "        a=b\n",
        "        b=c"
      ],
      "metadata": {
        "colab": {
          "base_uri": "https://localhost:8080/"
        },
        "id": "2Bj8RlXomzJP",
        "outputId": "026c2aa0-0d8e-41d7-9ac5-23a00914fc7d"
      },
      "execution_count": 5,
      "outputs": [
        {
          "output_type": "stream",
          "name": "stdout",
          "text": [
            "Enter n to generate the Fibonacci sequence to the n value: 5\n",
            "0 1123"
          ]
        }
      ]
    },
    {
      "cell_type": "code",
      "source": [
        "#Q4 Write a Python Program to Check Armstrong Number?\n",
        "num = int(input(\"Enter a number: \"))\n",
        "\n",
        "# Changed num variable to string, \n",
        "# and calculated the length (number of digits)\n",
        "order = len(str(num))\n",
        "\n",
        "# initialize sum\n",
        "sum = 0\n",
        "\n",
        "# find the sum of the exponents of each digit\n",
        "temp = num\n",
        "while temp > 0:\n",
        "   digit = temp % 10\n",
        "   sum += digit ** order\n",
        "   temp //= 10\n",
        "\n",
        "# display the result\n",
        "if num == sum:\n",
        "   print(num,\"is an Armstrong number\")\n",
        "else:\n",
        "   print(num,\"is not an Armstrong number\")\n"
      ],
      "metadata": {
        "colab": {
          "base_uri": "https://localhost:8080/"
        },
        "id": "5jgzKgWKm3kt",
        "outputId": "cccc63f3-bf46-4dc3-c432-7d59c2dc49a8"
      },
      "execution_count": 9,
      "outputs": [
        {
          "output_type": "stream",
          "name": "stdout",
          "text": [
            "Enter a number: 407\n",
            "407 is an Armstrong number\n"
          ]
        }
      ]
    },
    {
      "cell_type": "code",
      "source": [
        "#Q5 Write a python code to find the sum of natural numbers?\n",
        "number = int(input(\"Please Enter any Number: \"))\n",
        "total = 0\n",
        "\n",
        "for value in range(1, number + 1):\n",
        "    total = total + value\n",
        "\n",
        "print(\"The Sum of Natural Numbers from 1 to {0} =  {1}\".format(number, total))"
      ],
      "metadata": {
        "colab": {
          "base_uri": "https://localhost:8080/"
        },
        "id": "Nd2voruBWflc",
        "outputId": "da07988f-b296-4c6f-8d45-6879c25b5a7e"
      },
      "execution_count": 10,
      "outputs": [
        {
          "output_type": "stream",
          "name": "stdout",
          "text": [
            "Please Enter any Number: 25\n",
            "The Sum of Natural Numbers from 1 to 25 =  325\n"
          ]
        }
      ]
    },
    {
      "cell_type": "code",
      "source": [
        ""
      ],
      "metadata": {
        "id": "Z0AUajbiYrNv"
      },
      "execution_count": null,
      "outputs": []
    }
  ]
}