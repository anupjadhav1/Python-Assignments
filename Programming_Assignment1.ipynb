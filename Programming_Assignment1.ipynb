{
 "cells": [
  {
   "cell_type": "code",
   "execution_count": 1,
   "id": "fba30f11",
   "metadata": {},
   "outputs": [
    {
     "name": "stdout",
     "output_type": "stream",
     "text": [
      "Hello Python\n"
     ]
    }
   ],
   "source": [
    "#Q1 Write a Python program to print \"Hello Python\"?\n",
    "print(\"Hello Python\")"
   ]
  },
  {
   "cell_type": "code",
   "execution_count": 5,
   "id": "40d0745f",
   "metadata": {},
   "outputs": [
    {
     "name": "stdout",
     "output_type": "stream",
     "text": [
      "12\n",
      "5.0\n",
      "2.4\n"
     ]
    }
   ],
   "source": [
    "#Q2 Write a Python program to do arithmetical operations addition and division.?\n",
    "a=10\n",
    "b=2\n",
    "#addition\n",
    "print(a+b)\n",
    "#division\n",
    "print(a/b)\n",
    "#addition and division\n",
    "print((a+b)/(a/b))"
   ]
  },
  {
   "cell_type": "code",
   "execution_count": 10,
   "id": "8b638827",
   "metadata": {},
   "outputs": [
    {
     "name": "stdout",
     "output_type": "stream",
     "text": [
      "25.0\n"
     ]
    }
   ],
   "source": [
    "#Q3 Write a Python program to find the area of a triangle?\n",
    "height= 5\n",
    "base= 10\n",
    "area_of_triangle = height*base/2\n",
    "print(area_of_triangle)"
   ]
  },
  {
   "cell_type": "code",
   "execution_count": 12,
   "id": "550bea6c",
   "metadata": {},
   "outputs": [
    {
     "name": "stdout",
     "output_type": "stream",
     "text": [
      "Anup Jadhav\n",
      "Jadhav Anup\n"
     ]
    }
   ],
   "source": [
    "#Q4 Write a Python program to swap two variables?\n",
    "a=\"Anup\"\n",
    "b=\"Jadhav\"\n",
    "print(a,b)\n",
    "#swapping a & b\n",
    "a,b=b,a\n",
    "print(a,b)"
   ]
  },
  {
   "cell_type": "code",
   "execution_count": 17,
   "id": "8dd7443b",
   "metadata": {},
   "outputs": [
    {
     "name": "stdout",
     "output_type": "stream",
     "text": [
      "6\n"
     ]
    }
   ],
   "source": [
    "#Q5 Write a Python program to generate a random number?\n",
    "\n",
    "import random\n",
    "print(random.randint(1,11))"
   ]
  },
  {
   "cell_type": "code",
   "execution_count": null,
   "id": "bf8c0623",
   "metadata": {},
   "outputs": [],
   "source": []
  }
 ],
 "metadata": {
  "kernelspec": {
   "display_name": "Python 3 (ipykernel)",
   "language": "python",
   "name": "python3"
  },
  "language_info": {
   "codemirror_mode": {
    "name": "ipython",
    "version": 3
   },
   "file_extension": ".py",
   "mimetype": "text/x-python",
   "name": "python",
   "nbconvert_exporter": "python",
   "pygments_lexer": "ipython3",
   "version": "3.9.7"
  }
 },
 "nbformat": 4,
 "nbformat_minor": 5
}
